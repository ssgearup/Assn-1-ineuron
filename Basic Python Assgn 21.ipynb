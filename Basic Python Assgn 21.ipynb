{
 "cells": [
  {
   "cell_type": "markdown",
   "metadata": {},
   "source": [
    "# 1. Add the current date to the text file today.txt as a string."
   ]
  },
  {
   "cell_type": "code",
   "execution_count": 12,
   "metadata": {},
   "outputs": [
    {
     "name": "stdout",
     "output_type": "stream",
     "text": [
      "2022-01-02\n"
     ]
    }
   ],
   "source": [
    "from datetime import date\n",
    "  \n",
    "today= date.today()\n",
    "todaystr= today.isoformat()\n",
    "print(todaystr)\n",
    "new= open('today.txt','w')\n",
    "new.write(todaystr)\n",
    "new.close()"
   ]
  },
  {
   "cell_type": "markdown",
   "metadata": {},
   "source": [
    "# 2. Read the text file today.txt into the string today_string"
   ]
  },
  {
   "cell_type": "code",
   "execution_count": 13,
   "metadata": {},
   "outputs": [
    {
     "data": {
      "text/plain": [
       "'2022-01-02'"
      ]
     },
     "execution_count": 13,
     "metadata": {},
     "output_type": "execute_result"
    }
   ],
   "source": [
    "with open('today.txt','r') as o:\n",
    "    today_string= o.read()\n",
    "    \n",
    "today_string\n"
   ]
  },
  {
   "cell_type": "markdown",
   "metadata": {},
   "source": [
    "# 3. Parse the date from today_string."
   ]
  },
  {
   "cell_type": "code",
   "execution_count": 14,
   "metadata": {},
   "outputs": [
    {
     "data": {
      "text/plain": [
       "datetime.datetime(2022, 1, 2, 0, 0)"
      ]
     },
     "execution_count": 14,
     "metadata": {},
     "output_type": "execute_result"
    }
   ],
   "source": [
    "from datetime import date,time,datetime\n",
    "fmt= \"%Y-%m-%d\"\n",
    "datetime.strptime(today_string,fmt)\n"
   ]
  },
  {
   "cell_type": "markdown",
   "metadata": {},
   "source": [
    "# 4. List the files in your current directory"
   ]
  },
  {
   "cell_type": "code",
   "execution_count": 15,
   "metadata": {
    "scrolled": true
   },
   "outputs": [
    {
     "data": {
      "text/plain": [
       "['.ipynb_checkpoints',\n",
       " '02 January 2022.txt',\n",
       " 'Assignment_1.docx',\n",
       " 'Assignment_10.docx',\n",
       " 'Assignment_11.docx',\n",
       " 'Assignment_12.docx',\n",
       " 'Assignment_13.docx',\n",
       " 'Assignment_14.docx',\n",
       " 'Assignment_15.docx',\n",
       " 'Assignment_16.docx',\n",
       " 'Assignment_17.docx',\n",
       " 'Assignment_18.docx',\n",
       " 'Assignment_19.docx',\n",
       " 'Assignment_2.docx',\n",
       " 'Assignment_20.docx',\n",
       " 'Assignment_21.docx',\n",
       " 'Assignment_3.docx',\n",
       " 'Assignment_4.docx',\n",
       " 'Assignment_5.docx',\n",
       " 'Assignment_6.docx',\n",
       " 'Assignment_7.docx',\n",
       " 'Assignment_8.docx',\n",
       " 'Assignment_9.docx',\n",
       " 'Basic pyhton assignment 3.ipynb',\n",
       " 'Basic python ass 11.ipynb',\n",
       " 'Basic Python assgn 15.ipynb',\n",
       " 'Basic Python assgn 17.ipynb',\n",
       " 'Basic Python Assgn 18.ipynb',\n",
       " 'Basic Python Assgn 19 .ipynb',\n",
       " 'Basic Python Assgn 20.ipynb',\n",
       " 'Basic Python Assgn 21.ipynb',\n",
       " 'Basic python assignment 1.ipynb',\n",
       " 'Basic python assignment 10.ipynb',\n",
       " 'Basic python assignment 2.ipynb',\n",
       " 'Basic python assignment 4.ipynb',\n",
       " 'Basic python assignment 5.ipynb',\n",
       " 'Basic Python assignment 6.ipynb',\n",
       " 'Basic Python assignment 7.ipynb',\n",
       " 'Basic Python Assignment 8.ipynb',\n",
       " 'Basic Python Assignment 9.ipynb',\n",
       " 'Basic Python assn 12.ipynb',\n",
       " 'Basic Python assn 13.ipynb',\n",
       " 'Basic Python Assn 14.ipynb',\n",
       " 'Basic python assn 16.ipynb',\n",
       " 'books.csv',\n",
       " 'books.db',\n",
       " 'test.txt',\n",
       " 'today.txt',\n",
       " 'zoo.ipynb',\n",
       " 'zoo.py',\n",
       " '__pycache__',\n",
       " '~$signment_21.docx']"
      ]
     },
     "execution_count": 15,
     "metadata": {},
     "output_type": "execute_result"
    }
   ],
   "source": [
    "import os\n",
    "os.listdir('.')"
   ]
  },
  {
   "cell_type": "markdown",
   "metadata": {},
   "source": [
    "# 5. Create a list of all of the files in your parent directory (minimum five files should be available)."
   ]
  },
  {
   "cell_type": "code",
   "execution_count": 16,
   "metadata": {
    "scrolled": true
   },
   "outputs": [
    {
     "data": {
      "text/plain": [
       "['.ipynb_checkpoints',\n",
       " 'baseball.db',\n",
       " 'concepts',\n",
       " 'covid19 data analysis notebook.ipynb',\n",
       " 'data',\n",
       " 'Excel interview questions.ipynb',\n",
       " 'Experiment.ipynb',\n",
       " 'Fraud detection.ipynb',\n",
       " 'ineuron excel',\n",
       " 'ineuron PYTHON',\n",
       " 'ineuron SQL',\n",
       " 'ineuron tableau',\n",
       " 'iris_data.csv',\n",
       " 'LaLiga.ipynb',\n",
       " 'Machine learning and stats interview questions.ipynb',\n",
       " 'ML COURSERA',\n",
       " 'my first code.ipynb',\n",
       " 'My Music',\n",
       " 'My Pictures',\n",
       " 'My Videos',\n",
       " 'Nptel',\n",
       " 'odd even.ipynb',\n",
       " 'Python Interview Questions for Data Science.ipynb',\n",
       " 'Python Udemy',\n",
       " 'RealtyAI.ipynb',\n",
       " 'Sample_Skeleton.ipynb',\n",
       " 'Scrape.ipynb',\n",
       " 'Sol1. Linear Regression.ipynb',\n",
       " 'SQL interview ques.ipynb',\n",
       " 'SQL Server Management Studio',\n",
       " 'Step up Aanalytics.ipynb',\n",
       " \"SUBHAM's Notebook.url\",\n",
       " 'Tableau Interview Questions.ipynb',\n",
       " 'Task 1 Sparks Foundation.ipynb',\n",
       " 'Task 2 Unsupervised ML.ipynb',\n",
       " 'Task 3 EDA- Retail.ipynb',\n",
       " 'TerraBlue XT.ipynb',\n",
       " 'TunicaLabs Media Private Limited.ipynb',\n",
       " 'udemy ml project',\n",
       " 'Untitled.ipynb',\n",
       " '__pycache__']"
      ]
     },
     "execution_count": 16,
     "metadata": {},
     "output_type": "execute_result"
    }
   ],
   "source": [
    "os.listdir(\"..\")"
   ]
  },
  {
   "cell_type": "markdown",
   "metadata": {},
   "source": [
    "# 6. Use multiprocessing to create three separate processes. Make each one wait a random number of seconds between one and five, print the current time, and then exit."
   ]
  },
  {
   "cell_type": "code",
   "execution_count": 1,
   "metadata": {},
   "outputs": [
    {
     "name": "stdout",
     "output_type": "stream",
     "text": [
      "12:01:37\n",
      "12:01:41\n",
      "12:01:45\n",
      "12:01:47\n",
      "12:01:48\n"
     ]
    }
   ],
   "source": [
    "import time\n",
    "import random\n",
    " \n",
    "for i in range(5):\n",
    "   current_time = time.localtime()\n",
    "   timestamp = time.strftime(\"%I:%m:%S\", current_time)\n",
    "   time.sleep(random.randint(1,5))\n",
    "   print(timestamp)"
   ]
  },
  {
   "cell_type": "markdown",
   "metadata": {},
   "source": [
    "# 7. Create a date object of your day of birth."
   ]
  },
  {
   "cell_type": "code",
   "execution_count": 1,
   "metadata": {},
   "outputs": [
    {
     "name": "stdout",
     "output_type": "stream",
     "text": [
      "What is your B'day? (in DD/MM/YYYY) 31/10/1996\n",
      "Your B'day is : 31/October/1996\n"
     ]
    }
   ],
   "source": [
    "import datetime\n",
    "birthday=input(\"What is your B'day? (in DD/MM/YYYY) \")\n",
    "birthdate=datetime. datetime. strptime(birthday,\"%d/%m/%Y\"). date()\n",
    "print(\"Your B'day is : \"+birthdate. strftime('%d/%B/%Y'))"
   ]
  },
  {
   "cell_type": "markdown",
   "metadata": {},
   "source": [
    "# 8. What day of the week was your day of birth?"
   ]
  },
  {
   "cell_type": "code",
   "execution_count": 1,
   "metadata": {},
   "outputs": [
    {
     "name": "stdout",
     "output_type": "stream",
     "text": [
      "Thursday\n"
     ]
    }
   ],
   "source": [
    "import datetime\n",
    "import calendar\n",
    " \n",
    "def findDay(date):\n",
    "    born = datetime.datetime.strptime(date, '%d %m %Y').weekday()\n",
    "    return (calendar.day_name[born])\n",
    " \n",
    "# Driver program\n",
    "date = '31 10 1996'\n",
    "print(findDay(date))"
   ]
  },
  {
   "cell_type": "markdown",
   "metadata": {},
   "source": [
    "# 9. When will you be (or when were you) 10,000 days old?"
   ]
  },
  {
   "cell_type": "code",
   "execution_count": 3,
   "metadata": {},
   "outputs": [
    {
     "data": {
      "text/plain": [
       "datetime.date(2024, 3, 18)"
      ]
     },
     "execution_count": 3,
     "metadata": {},
     "output_type": "execute_result"
    }
   ],
   "source": [
    "from datetime import timedelta, date\n",
    "date(1996, 10, 31) + timedelta(days = 10000)"
   ]
  }
 ],
 "metadata": {
  "kernelspec": {
   "display_name": "Python 3",
   "language": "python",
   "name": "python3"
  },
  "language_info": {
   "codemirror_mode": {
    "name": "ipython",
    "version": 3
   },
   "file_extension": ".py",
   "mimetype": "text/x-python",
   "name": "python",
   "nbconvert_exporter": "python",
   "pygments_lexer": "ipython3",
   "version": "3.8.5"
  }
 },
 "nbformat": 4,
 "nbformat_minor": 4
}
